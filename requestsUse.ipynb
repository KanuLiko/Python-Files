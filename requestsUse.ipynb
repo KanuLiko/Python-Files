{
 "metadata": {
  "language_info": {
   "codemirror_mode": {
    "name": "ipython",
    "version": 3
   },
   "file_extension": ".py",
   "mimetype": "text/x-python",
   "name": "python",
   "nbconvert_exporter": "python",
   "pygments_lexer": "ipython3",
   "version": "3.8.5-final"
  },
  "orig_nbformat": 2,
  "kernelspec": {
   "name": "python_defaultSpec_1599635746478",
   "display_name": "Python 3.8.5 64-bit"
  }
 },
 "nbformat": 4,
 "nbformat_minor": 2,
 "cells": [
  {
   "cell_type": "code",
   "execution_count": 3,
   "metadata": {},
   "outputs": [
    {
     "output_type": "execute_result",
     "data": {
      "text/plain": "<RequestsCookieJar[Cookie(version=0, name='Cache-Control', value='private, no-cache, no-store, proxy-revalidate, no-transform', port=None, port_specified=False, domain='', domain_specified=False, domain_initial_dot=False, path='/', path_specified=True, secure=False, expires=None, discard=True, comment=None, comment_url=None, rest={'HttpOnly': None}, rfc2109=False), Cookie(version=0, name='Connection', value='keep-alive', port=None, port_specified=False, domain='', domain_specified=False, domain_initial_dot=False, path='/', path_specified=True, secure=False, expires=None, discard=True, comment=None, comment_url=None, rest={'HttpOnly': None}, rfc2109=False), Cookie(version=0, name='Content-Encoding', value='gzip', port=None, port_specified=False, domain='', domain_specified=False, domain_initial_dot=False, path='/', path_specified=True, secure=False, expires=None, discard=True, comment=None, comment_url=None, rest={'HttpOnly': None}, rfc2109=False), Cookie(version=0, name='Content-Type', value='text/html', port=None, port_specified=False, domain='', domain_specified=False, domain_initial_dot=False, path='/', path_specified=True, secure=False, expires=None, discard=True, comment=None, comment_url=None, rest={'HttpOnly': None}, rfc2109=False), Cookie(version=0, name='Date', value='Wed, 09 Sep 2020 07:28:42 GMT', port=None, port_specified=False, domain='', domain_specified=False, domain_initial_dot=False, path='/', path_specified=True, secure=False, expires=None, discard=True, comment=None, comment_url=None, rest={'HttpOnly': None}, rfc2109=False), Cookie(version=0, name='Last-Modified', value='Mon, 23 Jan 2017 13:27:32 GMT', port=None, port_specified=False, domain='', domain_specified=False, domain_initial_dot=False, path='/', path_specified=True, secure=False, expires=None, discard=True, comment=None, comment_url=None, rest={'HttpOnly': None}, rfc2109=False), Cookie(version=0, name='Pragma', value='no-cache', port=None, port_specified=False, domain='', domain_specified=False, domain_initial_dot=False, path='/', path_specified=True, secure=False, expires=None, discard=True, comment=None, comment_url=None, rest={'HttpOnly': None}, rfc2109=False), Cookie(version=0, name='Server', value='bfe/1.0.8.18', port=None, port_specified=False, domain='', domain_specified=False, domain_initial_dot=False, path='/', path_specified=True, secure=False, expires=None, discard=True, comment=None, comment_url=None, rest={'HttpOnly': None}, rfc2109=False), Cookie(version=0, name='Set-Cookie', value='BDORZ=27315; max-age=86400; domain=.baidu.com; path=/', port=None, port_specified=False, domain='', domain_specified=False, domain_initial_dot=False, path='/', path_specified=True, secure=False, expires=None, discard=True, comment=None, comment_url=None, rest={'HttpOnly': None}, rfc2109=False), Cookie(version=0, name='Transfer-Encoding', value='chunked', port=None, port_specified=False, domain='', domain_specified=False, domain_initial_dot=False, path='/', path_specified=True, secure=False, expires=None, discard=True, comment=None, comment_url=None, rest={'HttpOnly': None}, rfc2109=False)]>"
     },
     "metadata": {},
     "execution_count": 3
    }
   ],
   "source": [
    "# 导入模块\n",
    "import requests\n",
    "# 定义请求地址\n",
    "url = 'http://www.baidu.com'\n",
    "# 发送 GET 请求获取响应\n",
    "response = requests.get(url)\n",
    "# 获取响应的 html 内容\n",
    "html = response.text\n",
    "# response.headers\n",
    "# requests.utils.cookiejar_from_dict(response.headers)"
   ]
  },
  {
   "cell_type": "code",
   "execution_count": 6,
   "metadata": {},
   "outputs": [],
   "source": [
    "# 定义自定义请求头\n",
    "headers = {\n",
    "  \"User-Agent\":\"Mozilla/5.0 (Macintosh; Intel Mac OS X 10_14_0) AppleWebKit/537.36 (KHTML, like Gecko) Chrome/71.0.3578.98 Safari/537.36\"\n",
    "}\n",
    "# 发送自定义请求头\n",
    "response = requests.get(url,headers=headers)\n",
    "# 获取响应的 html 内容\n",
    "html = response.text"
   ]
  },
  {
   "cell_type": "code",
   "execution_count": 9,
   "metadata": {},
   "outputs": [],
   "source": [
    "#定义GET参数\n",
    "params = {\n",
    "    \"kw\":\"hello\"\n",
    "}\n",
    "#使用GET请求参数发送请求\n",
    "response = requests.get(url,headers=headers,params=params)\n",
    "# response.text"
   ]
  },
  {
   "cell_type": "code",
   "execution_count": 10,
   "metadata": {},
   "outputs": [],
   "source": [
    "# 定义post请求参数\n",
    "data = {\n",
    "  \"kw\":\"hello\"\n",
    "}\n",
    "# 使用 POST 请求参数发送请求\n",
    "response = requests.post(url,headers=headers,data=data)\n",
    "# 获取响应的 html 内容\n",
    "html = response.text"
   ]
  },
  {
   "cell_type": "code",
   "execution_count": 11,
   "metadata": {},
   "outputs": [],
   "source": [
    "# 下载图片地址\n",
    "url = \"http://docs.python-requests.org/zh_CN/latest/_static/requests-sidebar.png\"\n",
    "# 发送请求获取响应\n",
    "response = requests.get(url)\n",
    "# 保存图片\n",
    "with open('image.png','wb') as f:\n",
    "  f.write(response.content)"
   ]
  },
  {
   "cell_type": "code",
   "execution_count": 13,
   "metadata": {},
   "outputs": [],
   "source": [
    "url = \"https://www.12306.cn/mormhweb/\"\n",
    "# 设置忽略证书\n",
    "response = requests.get(url,verify=False)\n",
    "#超时的处理/s\n",
    "response = requests.get(url,verify=False,timeout=5)"
   ]
  },
  {
   "cell_type": "code",
   "execution_count": 15,
   "metadata": {
    "tags": []
   },
   "outputs": [
    {
     "output_type": "stream",
     "name": "stdout",
     "text": "访问url:http://www.baidu.com\n访问url:http://www.baidu.com\n访问url:http://www.baidu.com\nHTTPConnectionPool(host='124.235.135.210', port=80): Max retries exceeded with url: http://www.baidu.com/ (Caused by ConnectTimeoutError(<urllib3.connection.HTTPConnection object at 0x000000000B732190>, 'Connection to 124.235.135.210 timed out. (connect timeout=5)'))\n"
    }
   ],
   "source": [
    "from retrying import retry\n",
    "#使用装饰器进行重试设置\n",
    "@retry(stop_max_attempt_number=3)\n",
    "def parse_url(url):\n",
    "    print(\"访问url:{}\".format(url))\n",
    "    headers = {\n",
    "        \"User-Agent\":\"Mozilla/5.0 (Macintosh; Intel Mac OS X 10_14_0) AppleWebKit/537.36 (KHTML, like Gecko) Chrome/70.0.3538.110 Safari/537.36\"\n",
    "    }\n",
    "    proxies = {\n",
    "        \"http\":\"http://124.235.135.210:80\"\n",
    "    }\n",
    "    # 设置超时参数\n",
    "    response = requests.get(url,headers=headers,proxies=proxies,timeout=5)\n",
    "    return response.text\n",
    "url = \"http://www.baidu.com\"\n",
    "try:\n",
    "    html = parse_url(url)\n",
    "    print(html)\n",
    "except Exception as e:\n",
    "    print(e)\n",
    "# 2. 装饰器设置重试函数\n",
    "@retry(stop_max_attempt_number=3)\n",
    "def exec_func():\n",
    "    pass"
   ]
  },
  {
   "cell_type": "code",
   "execution_count": 16,
   "metadata": {},
   "outputs": [],
   "source": [
    "import urllib.request\n",
    "\n",
    "# 2. 发起网络请求\n",
    "# 2.1. 定义请求地址\n",
    "url = \"https://github.com\"\n",
    "# 2.2. 自定义请求头\n",
    "headers = {\n",
    "    \"User-Agent\": \"Mozilla/5.0 (Macintosh; Intel Mac OS X 10_14_3) AppleWebKit/537.36 (KHTML, like Gecko) Chrome/73.0.3683.86 Safari/537.36\",\n",
    "    \"Referer\": \"https://github.com/\",\n",
    "    \"Host\": \"github.com\"\n",
    "}\n",
    "\n",
    "# 定义请求对象\n",
    "req = urllib.request.Request(\n",
    "    url=url,\n",
    "    headers=headers\n",
    ")\n",
    "\n",
    "# 发送请求\n",
    "resp = urllib.request.urlopen(req)\n",
    "\n",
    "# 处理响应\n",
    "with open('github.txt', 'wb') as f:\n",
    "    f.write(resp.read())"
   ]
  },
  {
   "cell_type": "code",
   "execution_count": 21,
   "metadata": {},
   "outputs": [
    {
     "output_type": "execute_result",
     "data": {
      "text/plain": "'\\n# 1. 导入模块\\nimport urllib.request\\nimport urllib.parse\\n\\n# 2. 发起请求获取响应\\nwd = input(\"请输入查询内容：\")\\n\\n# 2.1 定义请求地址\\nurl = \"https://www.baidu.com/s?wd=\"\\n\\n# 2.2 定义自定义请求头\\nheaders = {\\n   \"User-Agent\": \"Mozilla/5.0 (Macintosh; Intel Mac OS X 10_14_3) AppleWebKit/537.36 (KHTML, like Gecko) Chrome/73.0.3683.86 Safari/537.36\",\\n   \"Referer\": \"https://github.com/\",\\n   \"Host\": \"github.com\"\\n}\\n# 2.3 定义请求对象\\nrequest = urllib.request.Request(\\n    url=url + urllib.parse.quote(wd),\\n    headers=headers\\n)\\n# 2.4 发送请求\\nresponse = urllib.request.urlopen(request)\\n\\n# 3. 处理响应\\nwith open(\\'02.html\\',\\'wb\\') as f:\\n    f.write(response.read())\\nresponse.read() \\nhtml = response.read().decode(\\'utf-8\\')\\n'"
     },
     "metadata": {},
     "execution_count": 21
    }
   ],
   "source": [
    " '''\n",
    " # 1. 导入模块\n",
    " import urllib.request\n",
    " import urllib.parse\n",
    "\n",
    " # 2. 发起请求获取响应\n",
    " wd = input(\"请输入查询内容：\")\n",
    "\n",
    " # 2.1 定义请求地址\n",
    " url = \"https://www.baidu.com/s?wd=\"\n",
    "\n",
    " # 2.2 定义自定义请求头\n",
    "headers = {\n",
    "    \"User-Agent\": \"Mozilla/5.0 (Macintosh; Intel Mac OS X 10_14_3) AppleWebKit/537.36 (KHTML, like Gecko) Chrome/73.0.3683.86 Safari/537.36\",\n",
    "    \"Referer\": \"https://github.com/\",\n",
    "    \"Host\": \"github.com\"\n",
    "}\n",
    " # 2.3 定义请求对象\n",
    " request = urllib.request.Request(\n",
    "     url=url + urllib.parse.quote(wd),\n",
    "     headers=headers\n",
    " )\n",
    " # 2.4 发送请求\n",
    " response = urllib.request.urlopen(request)\n",
    "\n",
    " # 3. 处理响应\n",
    " with open('02.html','wb') as f:\n",
    "     f.write(response.read())\n",
    "response.read() \n",
    "html = response.read().decode('utf-8')\n",
    "'''"
   ]
  },
  {
   "cell_type": "code",
   "execution_count": 40,
   "metadata": {
    "tags": []
   },
   "outputs": [
    {
     "output_type": "stream",
     "name": "stdout",
     "text": "json_string的数据类型: <class 'str'>\ndata数据类型: <class 'dict'>\n{'name': 'crise', 'age': 18, 'parents': {'monther': '妈妈', 'father': '爸爸'}}\n****************************************************************************************************\ndata数据类型： <class 'dict'>\njson_string数据类型： <class 'str'>\n{\"name\": \"crise\", \"age\": 18, \"parents\": {\"monther\": \"\\u5988\\u5988\", \"father\": \"\\u7238\\u7238\"}}\n****************************************************************************************************\n****************************************************************************************************\ndata数据类型： <class 'dict'>\n{'name': 'crise', 'age': 18, 'parents': {'monther': '妈妈', 'father': '爸爸'}}\n"
    }
   ],
   "source": [
    "import json\n",
    "json_string =json_string = '''\n",
    "{\n",
    "    \"name\": \"crise\",\n",
    "    \"age\": 18,\n",
    "    \"parents\": {\n",
    "        \"monther\": \"妈妈\",\n",
    "        \"father\": \"爸爸\"\n",
    "    }\n",
    "}\n",
    "'''\n",
    "print(\"json_string的数据类型:\",type(json_string))\n",
    "data = json.loads(json_string)\n",
    "print(\"data数据类型:\",type(data))\n",
    "print(data)\n",
    "\n",
    "print(\"*\"*100)\n",
    "# json.dumps Python数据类型 转 json字符串\n",
    "data = {\n",
    "    \"name\": \"crise\",\n",
    "    \"age\": 18,\n",
    "    \"parents\": {\n",
    "        \"monther\": \"妈妈\",\n",
    "        \"father\": \"爸爸\"\n",
    "    }\n",
    "}\n",
    "print(\"data数据类型：\",type(data))\n",
    "json_string = json.dumps(data)\n",
    "print(\"json_string数据类型：\",type(json_string))\n",
    "print(json_string)\n",
    "\n",
    "\n",
    "# json.dump Python数据类型 转 json文件\n",
    "data = {\n",
    "    \"name\": \"crise\",\n",
    "    \"age\": 18,\n",
    "    \"parents\": {\n",
    "        \"monther\": \"妈妈\",\n",
    "        \"father\": \"爸爸\"\n",
    "    }\n",
    "}\n",
    "with open(r'C:\\Users\\niko\\Documents\\GitHub\\Python-Files\\data_out.json','w',encoding='utf-8') as f:\n",
    "    json.dump(data,f,ensure_ascii=False,indent=2)\n",
    "\n",
    "print(\"*\"*100)\n",
    "# json.load json文件 转 Python数据类型\n",
    "with open(r'C:\\Users\\niko\\Documents\\GitHub\\Python-Files\\data_out.json','r',encoding='utf-8') as f:\n",
    "    data = json.load(f)\n",
    "    print(\"data数据类型：\", type(data))\n",
    "    print(data)\n"
   ]
  },
  {
   "cell_type": "code",
   "execution_count": null,
   "metadata": {},
   "outputs": [],
   "source": []
  }
 ]
}